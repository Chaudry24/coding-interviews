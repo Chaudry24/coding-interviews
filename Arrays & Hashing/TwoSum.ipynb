{
 "cells": [
  {
   "cell_type": "code",
   "execution_count": null,
   "id": "7bf394eb",
   "metadata": {},
   "outputs": [],
   "source": [
    "import numpy as np\n",
    "\n",
    "class Solution:\n",
    "    def twoSum(self, nums: List[int], target: int) -> List[int]:\n",
    "        \n",
    "#         for i in range(len(nums) - 1):\n",
    "#             for j in range(1 + i, len(nums)):\n",
    "#                 if nums[i] + nums[j] == target:\n",
    "#                     return [i, j]\n",
    "        \n",
    "        # set tmp != target\n",
    "        tmp = target + 1\n",
    "        \n",
    "        # convert nums to np array\n",
    "        nums = np.array(nums)\n",
    "        \n",
    "        \n",
    "        while tmp != target:\n",
    "            \n",
    "            # add the i-th number to subarray from i+1-th to the end\n",
    "            for i in range(len(nums) - 1):\n",
    "                tmp_arr = (nums[i] + nums)[i+1:]\n",
    "                if target in tmp_arr:\n",
    "                    tmp = target\n",
    "                    # add i + 1 to the index because the subarray starts from i+1\n",
    "                    index = np.where(tmp_arr == target)[0][0] + i + 1\n",
    "                    break\n",
    "        \n",
    "        return [i, index]\n"
   ]
  },
  {
   "cell_type": "code",
   "execution_count": null,
   "id": "2bc17b09",
   "metadata": {},
   "outputs": [],
   "source": [
    "# ALTERNATIVE FASTER SOLUTION\n",
    "\n",
    "class Solution:\n",
    "    def twoSum(self, nums: List[int], target: int) -> List[int]:\n",
    "        \n",
    "        # initialize empty dictionary\n",
    "        hashMap = {}\n",
    "        \n",
    "        for i, num in enumerate(nums):\n",
    "            \n",
    "            # take the difference between the target and number\n",
    "            diff = target - num\n",
    "            \n",
    "            # if the difference is already in the dict, return the list \n",
    "            # with the current i val and the prev index for diff\n",
    "            if diff in hashMap:\n",
    "                return [hasMap[diff], i]\n",
    "            \n",
    "            # add the current iterate to the hashmap\n",
    "            hashMap[num] = i\n",
    "        \n",
    "        return [i, index]\n"
   ]
  }
 ],
 "metadata": {
  "kernelspec": {
   "display_name": "Python 3 (ipykernel)",
   "language": "python",
   "name": "python3"
  },
  "language_info": {
   "codemirror_mode": {
    "name": "ipython",
    "version": 3
   },
   "file_extension": ".py",
   "mimetype": "text/x-python",
   "name": "python",
   "nbconvert_exporter": "python",
   "pygments_lexer": "ipython3",
   "version": "3.7.7"
  }
 },
 "nbformat": 4,
 "nbformat_minor": 5
}
