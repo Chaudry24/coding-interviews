{
 "cells": [
  {
   "cell_type": "code",
   "execution_count": null,
   "id": "4ccb9ed8",
   "metadata": {},
   "outputs": [],
   "source": [
    "class Solution:\n",
    "    def isPalindrome(self, s: str) -> bool:\n",
    "        \n",
    "        # make the string lower case\n",
    "        s = s.lower()\n",
    "        \n",
    "        # remove all non alphanumeric characters\n",
    "        s = \"\".join(filter(str.isalnum, s))\n",
    "            \n",
    "        # string forwards is the same as string backwards\n",
    "        if s == s[::-1]:\n",
    "            return True\n",
    "        \n",
    "        return False"
   ]
  }
 ],
 "metadata": {
  "kernelspec": {
   "display_name": "Python 3 (ipykernel)",
   "language": "python",
   "name": "python3"
  },
  "language_info": {
   "codemirror_mode": {
    "name": "ipython",
    "version": 3
   },
   "file_extension": ".py",
   "mimetype": "text/x-python",
   "name": "python",
   "nbconvert_exporter": "python",
   "pygments_lexer": "ipython3",
   "version": "3.7.7"
  }
 },
 "nbformat": 4,
 "nbformat_minor": 5
}
