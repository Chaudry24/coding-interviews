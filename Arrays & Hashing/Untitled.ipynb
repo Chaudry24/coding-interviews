{
 "cells": [
  {
   "cell_type": "code",
   "execution_count": null,
   "id": "74f3509e",
   "metadata": {},
   "outputs": [],
   "source": [
    "class Solution:\n",
    "    def longestConsecutive(self, nums: List[int]) -> int:\n",
    "        \n",
    "        # convert into set to get rid of repetitions\n",
    "        num_set = set(nums)\n",
    "        \n",
    "        # initialize longest seq\n",
    "        longest_seq = 0\n",
    "        \n",
    "        # for each number\n",
    "        for num in nums:\n",
    "            \n",
    "            # num - 1 is not in set means it is the beginning of the sequence\n",
    "            if num - 1 not in num_set:\n",
    "                # initialize length of sequence to be zero\n",
    "                length = 0\n",
    "                # while the num + length is in the set, increase length by 1\n",
    "                while num + length in num_set:\n",
    "                    length += 1\n",
    "                # longest sequence is the max of the length and the longest_seq\n",
    "                longest_seq = max(length, longest_seq)\n",
    "                \n",
    "        return longest_seq\n",
    " "
   ]
  }
 ],
 "metadata": {
  "kernelspec": {
   "display_name": "Python 3 (ipykernel)",
   "language": "python",
   "name": "python3"
  },
  "language_info": {
   "codemirror_mode": {
    "name": "ipython",
    "version": 3
   },
   "file_extension": ".py",
   "mimetype": "text/x-python",
   "name": "python",
   "nbconvert_exporter": "python",
   "pygments_lexer": "ipython3",
   "version": "3.7.7"
  }
 },
 "nbformat": 4,
 "nbformat_minor": 5
}
