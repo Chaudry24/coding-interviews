{
 "cells": [
  {
   "cell_type": "code",
   "execution_count": null,
   "id": "07533261",
   "metadata": {},
   "outputs": [],
   "source": [
    "class Solution:\n",
    "    def productExceptSelf(self, nums: List[int]) -> List[int]:\n",
    "        \n",
    "        # value of numbers \"before\" current index\n",
    "        prefix = 1\n",
    "        \n",
    "        # value of numbers \"after\" current index\n",
    "        postfix = 1\n",
    "        \n",
    "        # initialize array to save the products\n",
    "        prods = [1] * len(nums)\n",
    "        \n",
    "        for i in range(len(nums)):\n",
    "            \n",
    "            # prev prod -- val to the right\n",
    "            prods[i] = prefix\n",
    "            # multiply prev prod by next val to the right\n",
    "            prefix *= nums[i]\n",
    "            \n",
    "        # prefix prods are already saved -- now multiply by postfix nums to \n",
    "        # to get the prods of all but self\n",
    "        for i in range(len(nums)-1, -1, -1):\n",
    "            \n",
    "            # multiply the current prod by the value to the left of it\n",
    "            # this val will be 1 in the beginning\n",
    "            prods[i] *= postfix\n",
    "            # multiply postfix by the next val to the left to get the prods \n",
    "            postfix *= nums[i]\n",
    "                \n",
    "        return prods"
   ]
  }
 ],
 "metadata": {
  "kernelspec": {
   "display_name": "Python 3 (ipykernel)",
   "language": "python",
   "name": "python3"
  },
  "language_info": {
   "codemirror_mode": {
    "name": "ipython",
    "version": 3
   },
   "file_extension": ".py",
   "mimetype": "text/x-python",
   "name": "python",
   "nbconvert_exporter": "python",
   "pygments_lexer": "ipython3",
   "version": "3.7.7"
  }
 },
 "nbformat": 4,
 "nbformat_minor": 5
}
