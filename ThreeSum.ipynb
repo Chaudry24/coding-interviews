{
 "cells": [
  {
   "cell_type": "code",
   "execution_count": null,
   "id": "51b9665e",
   "metadata": {},
   "outputs": [],
   "source": [
    "class Solution:\n",
    "    def threeSum(self, nums: List[int]) -> List[List[int]]:\n",
    "        \n",
    "        # return empty list if fewer than 3 numbers\n",
    "        if len(nums) <= 2:\n",
    "            return []\n",
    "        \n",
    "        # sort the numbers\n",
    "        nums.sort()\n",
    "        \n",
    "        \n",
    "        sol_set = []\n",
    "        \n",
    "        # for a number and its index\n",
    "        for i, num in enumerate(nums):\n",
    "            \n",
    "            # if the index is bigger than zero and \n",
    "            # the number are current index is same \n",
    "            # as previous index, skip to next iteration\n",
    "            if i > 0 and num == nums[i - 1]:\n",
    "                continue\n",
    "            \n",
    "            # left pointer is 1 more than current indexx\n",
    "            # and right point is 1 less than total length\n",
    "            l, r = i + 1, len(nums) - 1\n",
    "            \n",
    "            \n",
    "            while l < r:\n",
    "                \n",
    "                # compute the sum\n",
    "                threeSum = nums[l] + num + nums[r]\n",
    "                \n",
    "                # add to solution set if sum is 0 and move\n",
    "                # left point a head\n",
    "                if threeSum == 0:\n",
    "                    sol_set.append([nums[l], num, nums[r]])\n",
    "                    l += 1\n",
    "                    # don't want repeated vals\n",
    "                    # so keep moving left point till it\n",
    "                    # stops repeating\n",
    "                    while nums[l] == nums[l - 1] and l < r:\n",
    "                        l += 1\n",
    "                \n",
    "                # since list is sorted\n",
    "                # < 0 means nums[r] > nums[l] - viceversa\n",
    "                elif threeSum < 0:\n",
    "                    l += 1\n",
    "\n",
    "                else:\n",
    "                    r -= 1\n",
    "                \n",
    "        return sol_set        "
   ]
  }
 ],
 "metadata": {
  "kernelspec": {
   "display_name": "Python 3 (ipykernel)",
   "language": "python",
   "name": "python3"
  },
  "language_info": {
   "codemirror_mode": {
    "name": "ipython",
    "version": 3
   },
   "file_extension": ".py",
   "mimetype": "text/x-python",
   "name": "python",
   "nbconvert_exporter": "python",
   "pygments_lexer": "ipython3",
   "version": "3.7.7"
  }
 },
 "nbformat": 4,
 "nbformat_minor": 5
}
