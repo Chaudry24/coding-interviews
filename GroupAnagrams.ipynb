{
 "cells": [
  {
   "cell_type": "code",
   "execution_count": null,
   "id": "661e00d2",
   "metadata": {},
   "outputs": [],
   "source": [
    "from collections import defaultdict\n",
    "\n",
    "class Solution:\n",
    "    def groupAnagrams(self, strs: List[str]) -> List[List[str]]:\n",
    "        \n",
    "        # default dict whose values are lists\n",
    "        res = defaultdict(list) # mapping char count to list of anagramw\n",
    "        \n",
    "        # for each word in the strs list\n",
    "        for s in strs:\n",
    "            \n",
    "            count = [0] * 26 # a ... z\n",
    "            \n",
    "            # count how many times each alphabet shows up for a fixed word\n",
    "            for c in s:\n",
    "                count[ord(c) - ord(\"a\")] += 1\n",
    "            \n",
    "            # append the current word to the count key\n",
    "            res[tuple(count)].append(s)\n",
    "                            \n",
    "        return res.values()"
   ]
  }
 ],
 "metadata": {
  "kernelspec": {
   "display_name": "Python 3 (ipykernel)",
   "language": "python",
   "name": "python3"
  },
  "language_info": {
   "codemirror_mode": {
    "name": "ipython",
    "version": 3
   },
   "file_extension": ".py",
   "mimetype": "text/x-python",
   "name": "python",
   "nbconvert_exporter": "python",
   "pygments_lexer": "ipython3",
   "version": "3.7.7"
  }
 },
 "nbformat": 4,
 "nbformat_minor": 5
}
