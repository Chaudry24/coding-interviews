{
 "cells": [
  {
   "cell_type": "code",
   "execution_count": null,
   "id": "a43b5c14",
   "metadata": {},
   "outputs": [],
   "source": [
    "from collections import Counter\n",
    "\n",
    "class Solution:\n",
    "    def topKFrequent(self, nums: List[int], k: int) -> List[int]:\n",
    "        \n",
    "        # get counts\n",
    "        counts = Counter(nums)\n",
    "        \n",
    "        # get most common\n",
    "        most_common = counts.most_common()\n",
    "        k_freq = []\n",
    "        \n",
    "        for i in range(k):\n",
    "            k_freq.append(most_common[i][0])\n",
    "        \n",
    "        return k_freq     \n",
    "        "
   ]
  }
 ],
 "metadata": {
  "kernelspec": {
   "display_name": "Python 3 (ipykernel)",
   "language": "python",
   "name": "python3"
  },
  "language_info": {
   "codemirror_mode": {
    "name": "ipython",
    "version": 3
   },
   "file_extension": ".py",
   "mimetype": "text/x-python",
   "name": "python",
   "nbconvert_exporter": "python",
   "pygments_lexer": "ipython3",
   "version": "3.7.7"
  }
 },
 "nbformat": 4,
 "nbformat_minor": 5
}
